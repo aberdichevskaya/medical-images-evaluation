{
 "cells": [
  {
   "cell_type": "markdown",
   "metadata": {},
   "source": [
    "# Пример использования"
   ]
  },
  {
   "cell_type": "code",
   "execution_count": 2,
   "metadata": {},
   "outputs": [],
   "source": [
    "import cv2\n",
    "import os\n",
    "import numpy as np\n",
    "import pandas as pd\n",
    "import sklearn\n",
    "\n",
    "PATH = \"D:\\\\Documents\\\\GitHub\\\\medical-imaging-evaluation\"\n",
    "DATA_PATH = \"D:\\\\Documents\\\\GitHub\\\\medical-imaging-evaluation\\\\data\"\n",
    "os.chdir(PATH)"
   ]
  },
  {
   "cell_type": "code",
   "execution_count": 15,
   "metadata": {},
   "outputs": [
    {
     "name": "stdout",
     "output_type": "stream",
     "text": [
      "Python 3.8.5\n"
     ]
    }
   ],
   "source": [
    "!python --version"
   ]
  },
  {
   "cell_type": "code",
   "execution_count": 11,
   "metadata": {},
   "outputs": [
    {
     "name": "stdout",
     "output_type": "stream",
     "text": [
      "cv2: 4.4.0\n",
      "numpy: 1.19.1\n",
      "pandas: 1.1.0\n",
      "sklearn: 0.23.1\n"
     ]
    }
   ],
   "source": [
    "print('cv2:', cv2.__version__)\n",
    "print('numpy:', np.__version__)\n",
    "print('pandas:', pd.__version__)\n",
    "print('sklearn:', sklearn.__version__)"
   ]
  },
  {
   "cell_type": "markdown",
   "metadata": {},
   "source": [
    "Данные:"
   ]
  },
  {
   "cell_type": "code",
   "execution_count": 8,
   "metadata": {},
   "outputs": [],
   "source": [
    "def load_data(names, folder, ending):\n",
    "    \"\"\"\n",
    "    Загрузка необходимых изображений (имена в списке names) из указанной папки.\n",
    "    \"\"\"\n",
    "    data = []\n",
    "    for name in names:\n",
    "        image = cv2.imread(folder + '/' + name.split('.')[0] + ending + '.png', 0)\n",
    "        data.append(image)\n",
    "    return np.array(data)\n",
    "\n",
    "train_eval = pd.read_csv(DATA_PATH + '/OpenPart.csv')\n",
    "train_names = train_eval['Case'].to_numpy()\n",
    "\n",
    "sample_1 = load_data(train_names, DATA_PATH + '/sample_1', '_s1')\n",
    "expert = load_data(train_names, DATA_PATH + '/expert', '_expert')"
   ]
  },
  {
   "cell_type": "markdown",
   "metadata": {},
   "source": [
    "Импорт библиотеки:"
   ]
  },
  {
   "cell_type": "code",
   "execution_count": 9,
   "metadata": {},
   "outputs": [],
   "source": [
    "from evaluator import Evaluator, RoundClassifier"
   ]
  },
  {
   "cell_type": "markdown",
   "metadata": {},
   "source": [
    "Создание объекта оценщика:"
   ]
  },
  {
   "cell_type": "code",
   "execution_count": 10,
   "metadata": {},
   "outputs": [],
   "source": [
    "evaluator = Evaluator()"
   ]
  },
  {
   "cell_type": "markdown",
   "metadata": {},
   "source": [
    "Передача объекту экспертной и оцениваемой разметок:"
   ]
  },
  {
   "cell_type": "code",
   "execution_count": 11,
   "metadata": {},
   "outputs": [],
   "source": [
    "evaluator.fit(sample_1, expert)"
   ]
  },
  {
   "cell_type": "markdown",
   "metadata": {},
   "source": [
    "Получение оценки:"
   ]
  },
  {
   "cell_type": "code",
   "execution_count": 12,
   "metadata": {},
   "outputs": [
    {
     "data": {
      "text/plain": [
       "array([1, 5, 3, 4, 3, 2, 3, 3, 3, 1, 4, 3, 5, 5, 4, 5, 1, 4, 5, 2, 5, 3,\n",
       "       3, 3, 3, 3, 5, 3, 5, 2, 4, 5, 5, 2, 5, 1, 3, 3, 2, 2, 3, 2, 3, 3,\n",
       "       5, 3, 5, 3, 5, 3, 3, 3, 5, 2, 5, 3, 1, 5, 3, 5], dtype=int64)"
      ]
     },
     "execution_count": 12,
     "metadata": {},
     "output_type": "execute_result"
    }
   ],
   "source": [
    "evaluator.evaluate()"
   ]
  }
 ],
 "metadata": {
  "kernelspec": {
   "display_name": "PyTorch",
   "language": "python",
   "name": "pytorch-gpu"
  },
  "language_info": {
   "codemirror_mode": {
    "name": "ipython",
    "version": 3
   },
   "file_extension": ".py",
   "mimetype": "text/x-python",
   "name": "python",
   "nbconvert_exporter": "python",
   "pygments_lexer": "ipython3",
   "version": "3.8.5"
  }
 },
 "nbformat": 4,
 "nbformat_minor": 4
}
