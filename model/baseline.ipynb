{
 "cells": [
  {
   "cell_type": "code",
   "execution_count": 33,
   "metadata": {},
   "outputs": [],
   "source": [
    "import cv2\n",
    "import numpy as np\n",
    "import pandas as pd\n",
    "\n",
    "from matplotlib import pyplot as plt"
   ]
  },
  {
   "cell_type": "code",
   "execution_count": 4,
   "metadata": {},
   "outputs": [],
   "source": [
    "train_evaluation = pd.read_csv('data/OpenPart.csv')\n",
    "test_evaluation = pd.read_csv('data/SecretPart_dummy.csv')"
   ]
  },
  {
   "cell_type": "code",
   "execution_count": 64,
   "metadata": {},
   "outputs": [
    {
     "name": "stdout",
     "output_type": "stream",
     "text": [
      "train size = 45\n",
      "validation size = 15\n"
     ]
    }
   ],
   "source": [
    "train_names = train_evaluation['Case']\n",
    "test_names = test_evaluation['Case']\n",
    "indices = np.random.choice(train_names.shape[0], 15, replace=False)\n",
    "val_names = train_names[indices]\n",
    "train_names = train_names[[i for i in range(len(train_names)) if i not in indices]]\n",
    "print('train size =', len(train_names))\n",
    "print('validation size =', len(val_names))"
   ]
  },
  {
   "cell_type": "code",
   "execution_count": 49,
   "metadata": {},
   "outputs": [],
   "source": [
    "def load_data(names, folder, ending):\n",
    "    data = []\n",
    "    for name in names:\n",
    "        image = cv2.imread(folder + '/' + name.split('.')[0] + ending + '.png', 0)\n",
    "        image = (image > 10).astype(np.int_)\n",
    "        data.append(image)\n",
    "    return data\n",
    "\n",
    "train_data = [\n",
    "    load_data(train_names, 'data/sample_1', '_s1'),\n",
    "    load_data(train_names, 'data/sample_2', '_s2'),\n",
    "    load_data(train_names, 'data/sample_3', '_s3')\n",
    "]\n",
    "val_data = [\n",
    "    load_data(val_names, 'data/sample_1', '_s1'),\n",
    "    load_data(val_names, 'data/sample_2', '_s2'),\n",
    "    load_data(val_names, 'data/sample_3', '_s3')\n",
    "]\n",
    "test_data = [\n",
    "    load_data(test_names, 'data/sample_1', '_s1'),\n",
    "    load_data(test_names, 'data/sample_2', '_s2'),\n",
    "    load_data(test_names, 'data/sample_3', '_s3')\n",
    "]\n",
    "expert_train = load_data(train_names, 'data/expert', '_expert')\n",
    "expert_test = load_data(test_names, 'data/expert', '_expert')"
   ]
  },
  {
   "cell_type": "code",
   "execution_count": 63,
   "metadata": {},
   "outputs": [
    {
     "data": {
      "text/plain": [
       "<matplotlib.image.AxesImage at 0x23ecb8bcaf0>"
      ]
     },
     "execution_count": 63,
     "metadata": {},
     "output_type": "execute_result"
    },
    {
     "data": {
      "image/png": "[encoded data removed]",
      "text/plain": [
       "<Figure size 432x288 with 1 Axes>"
      ]
     },
     "metadata": {
      "needs_background": "light"
     },
     "output_type": "display_data"
    }
   ],
   "source": [
    "plt.imshow(train_data[0][0])"
   ]
  }
 ],
 "metadata": {
  "kernelspec": {
   "display_name": "PyTorch",
   "language": "python",
   "name": "pytorch-gpu"
  },
  "language_info": {
   "codemirror_mode": {
    "name": "ipython",
    "version": 3
   },
   "file_extension": ".py",
   "mimetype": "text/x-python",
   "name": "python",
   "nbconvert_exporter": "python",
   "pygments_lexer": "ipython3",
   "version": "3.8.5"
  }
 },
 "nbformat": 4,
 "nbformat_minor": 4
}
