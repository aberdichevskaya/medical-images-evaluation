{
 "cells": [
  {
   "cell_type": "code",
   "execution_count": 2,
   "metadata": {},
   "outputs": [],
   "source": [
    "import sys\n",
    "\n",
    "from model.evaluator import Evaluator, RoundClassifier\n",
    "import numpy as np\n",
    "from PyQt5.QtCore import QThread, pyqtSignal"
   ]
  },
  {
   "cell_type": "code",
   "execution_count": 6,
   "metadata": {},
   "outputs": [],
   "source": [
    "class ModelResponse(QThread):\n",
    "    \"\"\"Класс является оболочкой для QThread.\n",
    "    Методы класса реализуют обращение приложения\n",
    "    к обученной модели и получение результата.\n",
    "    Объекты данного класса передаются главным окном\n",
    "    для выполнения в отдельный поток.\n",
    "    \n",
    "    \"\"\"\n",
    "    throw_resalts = pyqtSignal(np.ndarray)\n",
    "    \n",
    "    def __init__(self, list1, list2):\n",
    "        \"\"\"Конструктор класса. \n",
    "        \n",
    "        \"\"\"\n",
    "        QThread.__init__(self)\n",
    "        self.list1 = list1\n",
    "        self.list2 = list2\n",
    "    \n",
    "    def __del__(self):\n",
    "        self.wait()\n",
    "\n",
    "    def run(self):\n",
    "        \"\"\"В функции создаётся объект \n",
    "        модели. Данные передаются в модель.\n",
    "        Модель возвращает результат\n",
    "        \n",
    "        \"\"\"\n",
    "        evaluator = Evaluator()   \n",
    "        evaluator.fit(self.list1, self.list2)\n",
    "        results = evaluator.evaluate()\n",
    "        self.throw_resalts.emit(results)"
   ]
  },
  {
   "cell_type": "code",
   "execution_count": null,
   "metadata": {},
   "outputs": [],
   "source": []
  }
 ],
 "metadata": {
  "anaconda-cloud": {},
  "kernelspec": {
   "display_name": "Python 3",
   "language": "python",
   "name": "python3"
  },
  "language_info": {
   "codemirror_mode": {
    "name": "ipython",
    "version": 3
   },
   "file_extension": ".py",
   "mimetype": "text/x-python",
   "name": "python",
   "nbconvert_exporter": "python",
   "pygments_lexer": "ipython3",
   "version": "3.8.3"
  }
 },
 "nbformat": 4,
 "nbformat_minor": 4
}
